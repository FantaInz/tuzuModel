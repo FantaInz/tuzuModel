{
 "cells": [
  {
   "cell_type": "code",
   "execution_count": 1,
   "id": "28e6dd64-ebb9-49ce-ad36-26028134465b",
   "metadata": {},
   "outputs": [],
   "source": [
    "import pandas as pd\n",
    "import numpy as np\n",
    "import requests\n",
    "import os\n",
    "import json"
   ]
  },
  {
   "cell_type": "code",
   "execution_count": 3,
   "id": "9ddc90a3-bc7f-4371-bf1b-bfe5f2e4f795",
   "metadata": {},
   "outputs": [
    {
     "name": "stdout",
     "output_type": "stream",
     "text": [
      "Updated predictions saved to: predictions/all_positions_points.csv\n"
     ]
    }
   ],
   "source": [
    "FPL_API_URL = \"https://fantasy.premierleague.com/api/bootstrap-static/\"\n",
    "PREDICTIONS_FILE = \"predictions/all_positions_points-no-availability.csv\"\n",
    "OUTPUT_FILE = \"predictions/all_positions_points.csv\" \n",
    "\n",
    "def get_player_availability():\n",
    "    \"\"\"\n",
    "    Retrieves players avaiablity from fpl api\n",
    "    \n",
    "    Returns:\n",
    "        dict: Dictionary {player_id: availability}\n",
    "    \"\"\"\n",
    "    response = requests.get(FPL_API_URL)\n",
    "    data = response.json()\n",
    "    \n",
    "    availability_dict = {}\n",
    "    \n",
    "    for player in data[\"elements\"]:\n",
    "        player_id = player[\"id\"]\n",
    "        availability = player[\"chance_of_playing_this_round\"]\n",
    "        availability_dict[player_id] = availability if availability is not None else 100\n",
    "\n",
    "    \n",
    "    return availability_dict\n",
    "\n",
    "def update_predictions_with_availability(predictions_path, output_path):\n",
    "    \"\"\"\n",
    "    Updates player predictions, multiplying them availability / 100.\n",
    "\n",
    "    Args:\n",
    "        predictions_path (str): Ścieżka do pliku z predykcjami (bez availability).\n",
    "        output_path (str): Ścieżka do pliku wyjściowego.\n",
    "    \"\"\"\n",
    "    availability_dict = get_player_availability()\n",
    "   \n",
    "    predictions = pd.read_csv(predictions_path)\n",
    "\n",
    "    point_columns = [col for col in predictions.columns if col.endswith(\"_Pts\")]\n",
    "    \n",
    "    for col in point_columns:\n",
    "        predictions[col] = predictions.apply(lambda row: row[col] * (availability_dict.get(row[\"ID\"], 0) / 100), axis=1)\n",
    "\n",
    "    min_points_col = min(point_columns, key=lambda col: predictions[col].min())\n",
    "    predictions = predictions.sort_values(by=min_points_col, ascending=False)\n",
    "\n",
    "    predictions.to_csv(output_path, index=False)\n",
    "    print(f\"Updated predictions saved to: {output_path}\")\n",
    "\n",
    "update_predictions_with_availability(PREDICTIONS_FILE, OUTPUT_FILE)"
   ]
  },
  {
   "cell_type": "code",
   "execution_count": null,
   "id": "3e9ca3ea-2953-4f58-80f9-256691bbe887",
   "metadata": {},
   "outputs": [],
   "source": []
  }
 ],
 "metadata": {
  "kernelspec": {
   "display_name": "tvenv",
   "language": "python",
   "name": "tvenv"
  },
  "language_info": {
   "codemirror_mode": {
    "name": "ipython",
    "version": 3
   },
   "file_extension": ".py",
   "mimetype": "text/x-python",
   "name": "python",
   "nbconvert_exporter": "python",
   "pygments_lexer": "ipython3",
   "version": "3.12.3"
  }
 },
 "nbformat": 4,
 "nbformat_minor": 5
}
