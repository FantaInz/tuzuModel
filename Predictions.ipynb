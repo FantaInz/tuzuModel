{
 "cells": [
  {
   "cell_type": "code",
   "execution_count": 1,
   "id": "1b72f7b3-892e-45d1-9ac3-9066c53b3c02",
   "metadata": {},
   "outputs": [],
   "source": [
    "import pandas as pd\n",
    "import numpy as np\n",
    "import os\n",
    "import xgboost as xgb\n",
    "from helpers import load_csv, save_csv, log, check_file_exists, load_and_merge_prediction_data, preprocess_prediction_data, make_predictions"
   ]
  },
  {
   "cell_type": "code",
   "execution_count": 17,
   "id": "288a5878-ff83-4d39-947d-45ee00a476f3",
   "metadata": {},
   "outputs": [],
   "source": [
    "def save_predictions(data, output_columns, prediction_column, output_file):\n",
    "    \"\"\"Format and save predictions to a CSV file.\"\"\"\n",
    "    output_data = data[output_columns + [prediction_column]].copy()\n",
    "    output_data[\"gameweek\"] = output_data[\"gameweek\"].astype(int)\n",
    "    \n",
    "    # Check for duplicates\n",
    "    duplicates = output_data.duplicated(subset=[\"unique_id\", \"first_name\", \"second_name\", \"gameweek\"], keep=False)\n",
    "    if duplicates.any():\n",
    "        print(\"Duplicate rows detected:\")\n",
    "        print(output_data[duplicates])\n",
    "    \n",
    "    # Pivot the data to spread gameweek values into columns\n",
    "    output_data = output_data.pivot(index=[\"unique_id\", \"first_name\", \"second_name\"], columns=\"gameweek\", values=prediction_column)\n",
    "    output_data.reset_index(inplace=True)\n",
    "\n",
    "    # Ensure all column names are strings\n",
    "    output_data.columns = output_data.columns.map(str)\n",
    "\n",
    "    # Rename gameweek columns to include \"_Pts\"\n",
    "    output_data.rename(columns=lambda col: f\"{col}_Pts\" if col.isdigit() else col, inplace=True)\n",
    "\n",
    "    # Rename unique_id column for clarity\n",
    "    output_data.rename(columns={\"unique_id\": \"ID\"}, inplace=True)\n",
    "\n",
    "    # Sort gameweek columns\n",
    "    id_columns = [\"ID\", \"first_name\", \"second_name\"]\n",
    "    gameweek_columns = sorted(\n",
    "        [col for col in output_data.columns if col.endswith(\"_Pts\")],\n",
    "        key=lambda x: int(x.split('_')[0])  # Extract numerical gameweek for sorting\n",
    "    )\n",
    "    output_data = output_data[id_columns + gameweek_columns]\n",
    "\n",
    "    # Sort rows by gameweek column values (optional)\n",
    "    if gameweek_columns:\n",
    "        output_data = output_data.sort_values(by=gameweek_columns, ascending=False)\n",
    "\n",
    "    # Save to file\n",
    "    os.makedirs(os.path.dirname(output_file), exist_ok=True)\n",
    "    output_data.to_csv(output_file, index=False)\n",
    "    print(f\"Predictions saved to {output_file}\")"
   ]
  },
  {
   "cell_type": "code",
   "execution_count": 26,
   "id": "7d22bede-dc83-4554-9f37-7f5199533050",
   "metadata": {},
   "outputs": [
    {
     "name": "stdout",
     "output_type": "stream",
     "text": [
      "Processing position: GK\n",
      "Merged Fantasy-Premier-League/data/2024-25/processed_data/GK/GK_final.csv\n",
      "Loaded model from models/gk_prediction_model.json\n",
      "Predictions saved to predictions/gk_points.csv\n",
      "Processing position: DEF\n",
      "Merged Fantasy-Premier-League/data/2024-25/processed_data/DEF/DEF_final.csv\n",
      "Loaded model from models/def_prediction_model.json\n",
      "Predictions saved to predictions/def_points.csv\n",
      "Processing position: MID\n",
      "Merged Fantasy-Premier-League/data/2024-25/processed_data/MID/MID_final.csv\n",
      "Loaded model from models/mid_prediction_model.json\n",
      "Predictions saved to predictions/mid_points.csv\n",
      "Predictions saved to predictions/all_positions_points.csv\n",
      "Combined predictions saved to predictions/all_positions_points.csv\n"
     ]
    }
   ],
   "source": [
    "data_directory = \"Fantasy-Premier-League/data/2024-25\"\n",
    "positions = [\"GK\", \"DEF\", \"MID\"]\n",
    "models_path = \"models\"\n",
    "output_directory = \"predictions\"\n",
    "\n",
    "os.makedirs(output_directory, exist_ok=True)\n",
    "all_predictions = []\n",
    "\n",
    "for position in positions:\n",
    "    print(f\"Processing position: {position}\")\n",
    "    merged_data = load_and_merge_prediction_data(data_directory, [position])\n",
    "    merged_data = preprocess_prediction_data(merged_data)\n",
    "    \n",
    "    model_path = os.path.join(models_path, f\"{position.lower()}_prediction_model.json\")\n",
    "    output_file = os.path.join(output_directory, f\"{position.lower()}_points.csv\")\n",
    "    \n",
    "    # Make predictions\n",
    "    predicted_data = make_predictions(merged_data, model_path, \"Pts\")\n",
    "    if \"pred_minutes\" not in merged_data.columns:\n",
    "        raise ValueError(\"Column 'pred_minutes' is missing from merged_data.\")\n",
    "    predicted_data[\"Pts\"] = predicted_data[\"Pts\"] * (merged_data[\"pred_minutes\"] / 90)\n",
    "    \n",
    "    # Save individual position predictions\n",
    "    save_predictions(predicted_data, [\"unique_id\", \"first_name\", \"second_name\", \"gameweek\"], \"Pts\", output_file)\n",
    "    \n",
    "    # Append the predictions dataframe for merging\n",
    "    all_predictions.append(predicted_data)\n",
    "\n",
    "# Combine all position dataframes into one\n",
    "combined_predictions = pd.concat(all_predictions, ignore_index=True)\n",
    "\n",
    "# Save the combined file\n",
    "combined_output_file = os.path.join(output_directory, \"all_positions_points.csv\")\n",
    "save_predictions(combined_predictions, [\"unique_id\", \"first_name\", \"second_name\", \"gameweek\"], \"Pts\", combined_output_file)\n",
    "\n",
    "print(f\"Combined predictions saved to {combined_output_file}\")"
   ]
  },
  {
   "cell_type": "code",
   "execution_count": null,
   "id": "e7645996-2f9c-4be9-8bca-4d42c395829d",
   "metadata": {},
   "outputs": [],
   "source": []
  }
 ],
 "metadata": {
  "kernelspec": {
   "display_name": "tvenv",
   "language": "python",
   "name": "tvenv"
  },
  "language_info": {
   "codemirror_mode": {
    "name": "ipython",
    "version": 3
   },
   "file_extension": ".py",
   "mimetype": "text/x-python",
   "name": "python",
   "nbconvert_exporter": "python",
   "pygments_lexer": "ipython3",
   "version": "3.12.3"
  }
 },
 "nbformat": 4,
 "nbformat_minor": 5
}
