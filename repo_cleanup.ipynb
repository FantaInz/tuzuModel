{
 "cells": [
  {
   "cell_type": "code",
   "execution_count": 1,
   "id": "743ac9ec",
   "metadata": {},
   "outputs": [],
   "source": [
    "import os\n",
    "import shutil"
   ]
  },
  {
   "cell_type": "code",
   "execution_count": 2,
   "id": "c07dc543",
   "metadata": {},
   "outputs": [],
   "source": [
    "directory = os.path.join(os.getcwd(), \"Fantasy-Premier-League\")"
   ]
  },
  {
   "cell_type": "code",
   "execution_count": 3,
   "id": "ad1c7ecf",
   "metadata": {},
   "outputs": [
    {
     "name": "stdout",
     "output_type": "stream",
     "text": [
      "Deleted directory: /home/yosyz/Desktop/tuzuModel/Fantasy-Premier-League/data/2019-20\n"
     ]
    }
   ],
   "source": [
    "# Let's get rid of data that won't be used to make the repo smaller\n",
    "def clean_directory(directory):\n",
    "    if os.path.exists(directory):\n",
    "        for item in os.listdir(directory):\n",
    "            item_path = os.path.join(directory, item)\n",
    "            \n",
    "            # Keep \"data\" directory for special processing\n",
    "            if item == \"data\":\n",
    "                for sub_item in os.listdir(item_path):\n",
    "                    sub_item_path = os.path.join(item_path, sub_item)\n",
    "\n",
    "                    # Delete seasons 2016-17, 2017-18, 2018-19, 2019-20 because of old data and data differences\n",
    "                    if sub_item in [\"2016-17\", \"2017-18\", \"2018-19\", \"2019-20\"]:\n",
    "                        try:\n",
    "                            if os.path.isdir(sub_item_path):\n",
    "                                shutil.rmtree(sub_item_path)\n",
    "                                print(f\"Deleted directory: {sub_item_path}\")\n",
    "                        except Exception as e:\n",
    "                            print(f\"Unable to delete {sub_item_path}: {e}\")\n",
    "\n",
    "                    # Process remaining subdirectories\n",
    "                    elif os.path.isdir(sub_item_path):\n",
    "                        for file in os.listdir(sub_item_path):\n",
    "                            file_path = os.path.join(sub_item_path, file)\n",
    "\n",
    "                            # Keep only specific files and directories\n",
    "                            if file not in [\"fixtures.csv\", \"player_idlist.csv\", \"players\", \"teams.csv\", \"cleaned_players.csv\"]:\n",
    "                                try:\n",
    "                                    if os.path.isfile(file_path):\n",
    "                                        os.remove(file_path)\n",
    "                                        print(f\"Deleted file: {file_path}\")\n",
    "                                    elif os.path.isdir(file_path):\n",
    "                                        shutil.rmtree(file_path)\n",
    "                                        print(f\"Deleted directory: {file_path}\")\n",
    "                                except Exception as e:\n",
    "                                    print(f\"Unable to delete {file_path}: {e}\")\n",
    "            else:\n",
    "                # Remove all other items in the main directory\n",
    "                try:\n",
    "                    if os.path.isfile(item_path):\n",
    "                        os.remove(item_path)\n",
    "                        print(f\"Deleted file: {item_path}\")\n",
    "                    elif os.path.isdir(item_path):\n",
    "                        shutil.rmtree(item_path)\n",
    "                        print(f\"Deleted directory: {item_path}\")\n",
    "                except Exception as e:\n",
    "                    print(f\"Unable to delete {item_path}: {e}\")\n",
    "    else:\n",
    "        print(f\"Directory {directory} doesn't exist.\")\n",
    "    \n",
    "\n",
    "clean_directory(directory)"
   ]
  },
  {
   "cell_type": "code",
   "execution_count": null,
   "id": "c0273552",
   "metadata": {},
   "outputs": [],
   "source": []
  }
 ],
 "metadata": {
  "kernelspec": {
   "display_name": "tvenv",
   "language": "python",
   "name": "tvenv"
  },
  "language_info": {
   "codemirror_mode": {
    "name": "ipython",
    "version": 3
   },
   "file_extension": ".py",
   "mimetype": "text/x-python",
   "name": "python",
   "nbconvert_exporter": "python",
   "pygments_lexer": "ipython3",
   "version": "3.12.3"
  }
 },
 "nbformat": 4,
 "nbformat_minor": 5
}
