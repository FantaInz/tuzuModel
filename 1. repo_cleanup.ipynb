{
 "cells": [
  {
   "cell_type": "code",
   "execution_count": 1,
   "id": "743ac9ec",
   "metadata": {},
   "outputs": [],
   "source": [
    "import os\n",
    "from helpers import git_clone, remove_file_or_dir, filter_directory, log"
   ]
  },
  {
   "cell_type": "code",
   "execution_count": 2,
   "id": "ad1c7ecf",
   "metadata": {},
   "outputs": [],
   "source": [
    "def clean_directory(directory):\n",
    "    \"\"\"\n",
    "    Clean the Fantasy-Premier-League directory of unnecessary data.\n",
    "    \"\"\"\n",
    "    if not os.path.exists(directory):\n",
    "        log(f\"Directory {directory} doesn't exist.\", level=\"WARNING\")\n",
    "        return\n",
    "\n",
    "    for item in os.listdir(directory):\n",
    "        item_path = os.path.join(directory, item)\n",
    "\n",
    "        if item == \"data\":\n",
    "            # Process \"data\" subdirectory\n",
    "            for sub_item in os.listdir(item_path):\n",
    "                sub_item_path = os.path.join(item_path, sub_item)\n",
    "\n",
    "                # Remove too far seasons\n",
    "                if sub_item not in [\"2022-23\", \"2023-24\", \"2024-25\"]:\n",
    "                    remove_file_or_dir(sub_item_path)\n",
    "                elif os.path.isdir(sub_item_path):\n",
    "                    filter_directory(\n",
    "                        sub_item_path,\n",
    "                        keep_files=[\"fixtures.csv\", \"player_idlist.csv\", \"cleaned_players.csv\", \"players_raw.csv\", \"teams.csv\", \n",
    "                                    \"id_dict.csv\"],\n",
    "                        keep_dirs=[\"players\", \"understat\"]\n",
    "                    )\n",
    "        else:\n",
    "            remove_file_or_dir(item_path)\n",
    "\n",
    "repo_url = \"https://github.com/vaastav/Fantasy-Premier-League.git\"\n",
    "clone_dir = \"Fantasy-Premier-League\"\n",
    "\n",
    "log(\"Cloning the repository...\", level=\"INFO\")\n",
    "git_clone(repo_url, clone_dir)\n",
    "\n",
    "log(\"Cleaning the directory...\", level=\"INFO\")\n",
    "clean_directory(clone_dir)"
   ]
  },
  {
   "cell_type": "code",
   "execution_count": null,
   "id": "e03028c2-7585-44ba-88c9-a1a28ce7735c",
   "metadata": {},
   "outputs": [],
   "source": []
  }
 ],
 "metadata": {
  "kernelspec": {
   "display_name": "tvenv",
   "language": "python",
   "name": "tvenv"
  },
  "language_info": {
   "codemirror_mode": {
    "name": "ipython",
    "version": 3
   },
   "file_extension": ".py",
   "mimetype": "text/x-python",
   "name": "python",
   "nbconvert_exporter": "python",
   "pygments_lexer": "ipython3",
   "version": "3.12.3"
  }
 },
 "nbformat": 4,
 "nbformat_minor": 5
}
