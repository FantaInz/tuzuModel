{
 "cells": [
  {
   "cell_type": "code",
   "execution_count": 1,
   "id": "743ac9ec",
   "metadata": {},
   "outputs": [],
   "source": [
    "import os\n",
    "from helpers import git_clone, remove_file_or_dir, filter_directory, log"
   ]
  },
  {
   "cell_type": "code",
   "execution_count": 2,
   "id": "ad1c7ecf",
   "metadata": {},
   "outputs": [
    {
     "name": "stdout",
     "output_type": "stream",
     "text": [
      "INFO: Cloning the repository...\n",
      "INFO: Deleted directory: Fantasy-Premier-League\n",
      "INFO: Cloned repository to: Fantasy-Premier-League\n",
      "INFO: Cleaning the directory...\n",
      "INFO: Deleted directory: Fantasy-Premier-League/reports\n",
      "INFO: Deleted file: Fantasy-Premier-League/LICENSE\n",
      "INFO: Deleted file: Fantasy-Premier-League/top_players.py\n",
      "INFO: Deleted file: Fantasy-Premier-League/getters.py\n",
      "INFO: Deleted file: Fantasy-Premier-League/.gitignore\n",
      "INFO: Deleted file: Fantasy-Premier-League/parsers.py\n",
      "INFO: Deleted file: Fantasy-Premier-League/schedule.py\n",
      "INFO: Deleted file: Fantasy-Premier-League/cleaners.py\n",
      "INFO: Deleted file: Fantasy-Premier-League/magnus_report_1920.pdf\n",
      "INFO: Deleted file: Fantasy-Premier-League/fbref.py\n",
      "INFO: Deleted file: Fantasy-Premier-League/teams_scraper.py\n",
      "INFO: Deleted file: Fantasy-Premier-League/vaastav_report_1920.pdf\n",
      "INFO: Deleted directory: Fantasy-Premier-League/team_4582_data18_19\n",
      "INFO: Deleted directory: Fantasy-Premier-League/data/2018-19\n",
      "INFO: Deleted directory: Fantasy-Premier-League/data/2016-17\n",
      "INFO: Deleted directory: Fantasy-Premier-League/data/2017-18\n",
      "INFO: Deleted directory: Fantasy-Premier-League/data/2019-20\n",
      "INFO: Deleted file: Fantasy-Premier-League/data/2020-21/best_players.csv\n",
      "INFO: Deleted directory: Fantasy-Premier-League/data/2020-21/understat\n",
      "INFO: Deleted directory: Fantasy-Premier-League/data/2020-21/gws\n",
      "INFO: Deleted file: Fantasy-Premier-League/data/2022-23/id_dict.csv\n",
      "INFO: Deleted directory: Fantasy-Premier-League/data/2022-23/understat\n",
      "INFO: Deleted directory: Fantasy-Premier-League/data/2022-23/gws\n",
      "INFO: Deleted file: Fantasy-Premier-League/data/2021-22/id_dict.csv\n",
      "INFO: Deleted file: Fantasy-Premier-League/data/2021-22/fbref_overview.csv\n",
      "INFO: Deleted directory: Fantasy-Premier-League/data/2021-22/understat\n",
      "INFO: Deleted directory: Fantasy-Premier-League/data/2021-22/fbref\n",
      "INFO: Deleted directory: Fantasy-Premier-League/data/2021-22/gws\n",
      "INFO: Deleted directory: Fantasy-Premier-League/data/2024-25/understat\n",
      "INFO: Deleted directory: Fantasy-Premier-League/data/2024-25/gws\n",
      "INFO: Deleted directory: Fantasy-Premier-League/data/2023-24/understat\n",
      "INFO: Deleted directory: Fantasy-Premier-League/data/2023-24/gws\n",
      "INFO: Deleted file: Fantasy-Premier-League/mergers.py\n",
      "INFO: Deleted file: Fantasy-Premier-League/top_managers.py\n",
      "INFO: Deleted file: Fantasy-Premier-League/deprecated_script.py\n",
      "INFO: Deleted file: Fantasy-Premier-League/global_merger.py\n",
      "INFO: Deleted file: Fantasy-Premier-League/requirements.txt\n",
      "INFO: Deleted file: Fantasy-Premier-League/new_position_checker.py\n",
      "INFO: Deleted file: Fantasy-Premier-League/FUNDING.yml\n",
      "INFO: Deleted file: Fantasy-Premier-League/README.md\n",
      "INFO: Deleted file: Fantasy-Premier-League/understat.py\n",
      "INFO: Deleted directory: Fantasy-Premier-League/.git\n",
      "INFO: Deleted file: Fantasy-Premier-League/gameweek.py\n",
      "INFO: Deleted file: Fantasy-Premier-League/global_scraper.py\n",
      "INFO: Deleted file: Fantasy-Premier-League/lateriser_report_1920.pdf\n",
      "INFO: Deleted file: Fantasy-Premier-League/collector.py\n",
      "INFO: Deleted file: Fantasy-Premier-League/utility.py\n"
     ]
    }
   ],
   "source": [
    "def clean_directory(directory):\n",
    "    \"\"\"\n",
    "    Clean the Fantasy-Premier-League directory of unnecessary data.\n",
    "    \"\"\"\n",
    "    if not os.path.exists(directory):\n",
    "        log(f\"Directory {directory} doesn't exist.\", level=\"WARNING\")\n",
    "        return\n",
    "\n",
    "    for item in os.listdir(directory):\n",
    "        item_path = os.path.join(directory, item)\n",
    "\n",
    "        if item == \"data\":\n",
    "            # Process \"data\" subdirectory\n",
    "            for sub_item in os.listdir(item_path):\n",
    "                sub_item_path = os.path.join(item_path, sub_item)\n",
    "\n",
    "                # Remove too far seasons\n",
    "                if sub_item in [\"2016-17\", \"2017-18\", \"2018-19\", \"2019-20\"]:\n",
    "                    remove_file_or_dir(sub_item_path)\n",
    "                elif os.path.isdir(sub_item_path):\n",
    "                    filter_directory(\n",
    "                        sub_item_path,\n",
    "                        keep_files=[\"fixtures.csv\", \"player_idlist.csv\", \"cleaned_players.csv\", \"players_raw.csv\", \"teams.csv\"],\n",
    "                        keep_dirs=[\"players\"]\n",
    "                    )\n",
    "        else:\n",
    "            remove_file_or_dir(item_path)\n",
    "\n",
    "repo_url = \"https://github.com/vaastav/Fantasy-Premier-League.git\"\n",
    "clone_dir = \"Fantasy-Premier-League\"\n",
    "\n",
    "log(\"Cloning the repository...\", level=\"INFO\")\n",
    "git_clone(repo_url, clone_dir)\n",
    "\n",
    "log(\"Cleaning the directory...\", level=\"INFO\")\n",
    "clean_directory(clone_dir)"
   ]
  }
 ],
 "metadata": {
  "kernelspec": {
   "display_name": "tvenv",
   "language": "python",
   "name": "tvenv"
  },
  "language_info": {
   "codemirror_mode": {
    "name": "ipython",
    "version": 3
   },
   "file_extension": ".py",
   "mimetype": "text/x-python",
   "name": "python",
   "nbconvert_exporter": "python",
   "pygments_lexer": "ipython3",
   "version": "3.12.3"
  }
 },
 "nbformat": 4,
 "nbformat_minor": 5
}
