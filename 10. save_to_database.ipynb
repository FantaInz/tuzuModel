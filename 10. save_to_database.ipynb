{
 "cells": [
  {
   "cell_type": "code",
   "execution_count": 2,
   "id": "3ab988a0-4073-469b-bf74-08769c9a2f11",
   "metadata": {},
   "outputs": [],
   "source": [
    "import pandas as pd\n",
    "import requests\n",
    "import psycopg2\n",
    "import os"
   ]
  },
  {
   "cell_type": "code",
   "execution_count": 3,
   "id": "47730bca-28f6-47a9-aed7-6045a31d857f",
   "metadata": {},
   "outputs": [
    {
     "ename": "KeyError",
     "evalue": "'DB_NAME'",
     "output_type": "error",
     "traceback": [
      "\u001b[0;31m---------------------------------------------------------------------------\u001b[0m",
      "\u001b[0;31mKeyError\u001b[0m                                  Traceback (most recent call last)",
      "Cell \u001b[0;32mIn[3], line 41\u001b[0m\n\u001b[1;32m     38\u001b[0m     cur\u001b[38;5;241m.\u001b[39mclose()\n\u001b[1;32m     39\u001b[0m     conn\u001b[38;5;241m.\u001b[39mclose()\n\u001b[0;32m---> 41\u001b[0m \u001b[43mupdate_expected_points_no_availability\u001b[49m\u001b[43m(\u001b[49m\u001b[43m)\u001b[49m\n",
      "Cell \u001b[0;32mIn[3], line 19\u001b[0m, in \u001b[0;36mupdate_expected_points_no_availability\u001b[0;34m()\u001b[0m\n\u001b[1;32m     14\u001b[0m     rows\u001b[38;5;241m.\u001b[39mappend(\u001b[38;5;124mf\u001b[39m\u001b[38;5;124m\"\u001b[39m\u001b[38;5;132;01m{\u001b[39;00mi\u001b[38;5;132;01m}\u001b[39;00m\u001b[38;5;124m_Pts\u001b[39m\u001b[38;5;124m\"\u001b[39m)\n\u001b[1;32m     16\u001b[0m points \u001b[38;5;241m=\u001b[39m df[rows]\n\u001b[1;32m     18\u001b[0m conn \u001b[38;5;241m=\u001b[39m psycopg2\u001b[38;5;241m.\u001b[39mconnect(\n\u001b[0;32m---> 19\u001b[0m     database\u001b[38;5;241m=\u001b[39m\u001b[43mos\u001b[49m\u001b[38;5;241;43m.\u001b[39;49m\u001b[43menviron\u001b[49m\u001b[43m[\u001b[49m\u001b[38;5;124;43m\"\u001b[39;49m\u001b[38;5;124;43mDB_NAME\u001b[39;49m\u001b[38;5;124;43m\"\u001b[39;49m\u001b[43m]\u001b[49m,\n\u001b[1;32m     20\u001b[0m     user\u001b[38;5;241m=\u001b[39mos\u001b[38;5;241m.\u001b[39menviron[\u001b[38;5;124m\"\u001b[39m\u001b[38;5;124mDB_USER\u001b[39m\u001b[38;5;124m\"\u001b[39m],\n\u001b[1;32m     21\u001b[0m     host\u001b[38;5;241m=\u001b[39mos\u001b[38;5;241m.\u001b[39menviron[\u001b[38;5;124m\"\u001b[39m\u001b[38;5;124mDB_HOST\u001b[39m\u001b[38;5;124m\"\u001b[39m],\n\u001b[1;32m     22\u001b[0m     password\u001b[38;5;241m=\u001b[39mos\u001b[38;5;241m.\u001b[39menviron[\u001b[38;5;124m\"\u001b[39m\u001b[38;5;124mDB_PASSWORD\u001b[39m\u001b[38;5;124m\"\u001b[39m],\n\u001b[1;32m     23\u001b[0m     port\u001b[38;5;241m=\u001b[39m\u001b[38;5;241m5432\u001b[39m\n\u001b[1;32m     24\u001b[0m )\n\u001b[1;32m     26\u001b[0m cur \u001b[38;5;241m=\u001b[39m conn\u001b[38;5;241m.\u001b[39mcursor()\n\u001b[1;32m     28\u001b[0m \u001b[38;5;28;01mfor\u001b[39;00m row \u001b[38;5;129;01min\u001b[39;00m points\u001b[38;5;241m.\u001b[39miterrows():\n",
      "File \u001b[0;32m/usr/lib/python3.12/os.py:685\u001b[0m, in \u001b[0;36m_Environ.__getitem__\u001b[0;34m(self, key)\u001b[0m\n\u001b[1;32m    682\u001b[0m     value \u001b[38;5;241m=\u001b[39m \u001b[38;5;28mself\u001b[39m\u001b[38;5;241m.\u001b[39m_data[\u001b[38;5;28mself\u001b[39m\u001b[38;5;241m.\u001b[39mencodekey(key)]\n\u001b[1;32m    683\u001b[0m \u001b[38;5;28;01mexcept\u001b[39;00m \u001b[38;5;167;01mKeyError\u001b[39;00m:\n\u001b[1;32m    684\u001b[0m     \u001b[38;5;66;03m# raise KeyError with the original key value\u001b[39;00m\n\u001b[0;32m--> 685\u001b[0m     \u001b[38;5;28;01mraise\u001b[39;00m \u001b[38;5;167;01mKeyError\u001b[39;00m(key) \u001b[38;5;28;01mfrom\u001b[39;00m\u001b[38;5;250m \u001b[39m\u001b[38;5;28;01mNone\u001b[39;00m\n\u001b[1;32m    686\u001b[0m \u001b[38;5;28;01mreturn\u001b[39;00m \u001b[38;5;28mself\u001b[39m\u001b[38;5;241m.\u001b[39mdecodevalue(value)\n",
      "\u001b[0;31mKeyError\u001b[0m: 'DB_NAME'"
     ]
    }
   ],
   "source": [
    "def update_expected_points_no_availability():\n",
    "    \"\"\"\n",
    "    Updates the 'expectedPoints' column in the database using predictions from a CSV file\n",
    "    \"\"\"\n",
    "    # Fetch the latest gameweek number\n",
    "    URL = \"https://fantasy.premierleague.com/api/event-status/\"\n",
    "    lastUpdate = requests.get(URL).json()[\"status\"][0][\"event\"]\n",
    "\n",
    "    df = pd.read_csv(\"predictions/all_positions_points.csv\")\n",
    "    rows = [\"ID\"]\n",
    "\n",
    "    # Get points for the next 5 gameweeks\n",
    "    for i in range(lastUpdate + 1, lastUpdate + 6):\n",
    "        rows.append(f\"{i}_Pts\")\n",
    "\n",
    "    points = df[rows]\n",
    "\n",
    "    conn = psycopg2.connect(\n",
    "        database=os.environ[\"DB_NAME\"],\n",
    "        user=os.environ[\"DB_USER\"],\n",
    "        host=os.environ[\"DB_HOST\"],\n",
    "        password=os.environ[\"DB_PASSWORD\"],\n",
    "        port=os.environ[\"PORT\"]\n",
    "    )\n",
    "    \n",
    "    cur = conn.cursor()\n",
    "\n",
    "    for row in points.iterrows():\n",
    "        id = int(row[1].iloc[0])\n",
    "\n",
    "        arr = \"{\" + \", \".join(row[1][1:].apply(str)) + \"}\"\n",
    "        query = f\"UPDATE players SET \\\"expectedPoints\\\"=\\\"expectedPoints\\\"[0:{lastUpdate}]||'{arr}' WHERE id={id}\"\n",
    "\n",
    "        print(query)\n",
    "        cur.execute(query)\n",
    "\n",
    "    conn.commit()\n",
    "    cur.close()\n",
    "    conn.close()\n",
    "\n",
    "update_expected_points_no_availability()"
   ]
  },
  {
   "cell_type": "code",
   "execution_count": null,
   "id": "055f84be-5d9a-4d9c-bf82-2428ff455ed4",
   "metadata": {},
   "outputs": [],
   "source": []
  }
 ],
 "metadata": {
  "kernelspec": {
   "display_name": "tvenv",
   "language": "python",
   "name": "tvenv"
  },
  "language_info": {
   "codemirror_mode": {
    "name": "ipython",
    "version": 3
   },
   "file_extension": ".py",
   "mimetype": "text/x-python",
   "name": "python",
   "nbconvert_exporter": "python",
   "pygments_lexer": "ipython3",
   "version": "3.12.3"
  }
 },
 "nbformat": 4,
 "nbformat_minor": 5
}
