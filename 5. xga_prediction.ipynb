{
 "cells": [
  {
   "cell_type": "code",
   "execution_count": 1,
   "id": "c989f8db",
   "metadata": {},
   "outputs": [],
   "source": [
    "import pandas as pd\n",
    "import numpy as np\n",
    "import os\n",
    "import xgboost as xgb"
   ]
  },
  {
   "cell_type": "code",
   "execution_count": 2,
   "id": "46097f5a",
   "metadata": {},
   "outputs": [],
   "source": [
    "def load_and_merge_data(data_directory, positions):\n",
    "    \"\"\"Load and merge data for specified positions.\"\"\"\n",
    "    merged_data = pd.DataFrame()\n",
    "    for position in positions:\n",
    "        position_file = os.path.join(data_directory, position, f\"{position}_merged_with_fixtures.csv\")\n",
    "        if os.path.exists(position_file):\n",
    "            position_data = pd.read_csv(position_file)\n",
    "            merged_data = pd.concat([merged_data, position_data], ignore_index=True)\n",
    "            print(f\"Merged {position_file}\")\n",
    "        else:\n",
    "            print(f\"File {position_file} not found. Skipping.\")\n",
    "    return merged_data"
   ]
  },
  {
   "cell_type": "code",
   "execution_count": 3,
   "id": "2881dba6",
   "metadata": {},
   "outputs": [],
   "source": [
    "def preprocess_data(data):\n",
    "    \"\"\"Perform data preprocessing and feature engineering.\"\"\"\n",
    "    data.rename(columns={\"id\": \"unique_id\"}, inplace=True)\n",
    "    data['was_home'] = data['was_home'].astype(int)\n",
    "    data['home_crowd_effect'] = data['was_home'] * data['crowds']\n",
    "    data = data.sort_values(by=[\"unique_id\", \"season\", \"gameweek\"])\n",
    "    data = pd.get_dummies(data, columns=[\"POS\", \"season\"], drop_first=True)\n",
    "    return data"
   ]
  },
  {
   "cell_type": "code",
   "execution_count": 4,
   "id": "e8db625e",
   "metadata": {},
   "outputs": [],
   "source": [
    "def make_predictions(data, model_path, prediction_column):\n",
    "    \"\"\"Load model, generate predictions, and add to data.\"\"\"\n",
    "    model = xgb.XGBRegressor()\n",
    "    model.load_model(model_path)\n",
    "    print(f\"Loaded model from {model_path}\")\n",
    "\n",
    "    # Ensure only trained features are used\n",
    "    trained_feature_names = model.get_booster().feature_names\n",
    "    prediction_data = data.reindex(columns=trained_feature_names, fill_value=0)\n",
    "\n",
    "    # Generate predictions\n",
    "    predictions = model.predict(prediction_data)\n",
    "    predictions = np.clip(predictions, a_min=0, a_max=None)  # Clamp negative predictions to 0\n",
    "    data[prediction_column] = predictions\n",
    "    return data"
   ]
  },
  {
   "cell_type": "code",
   "execution_count": 5,
   "id": "c5ded9b4",
   "metadata": {},
   "outputs": [],
   "source": [
    "def save_predictions(data, output_columns, prediction_column, output_file):\n",
    "    \"\"\"Format and save predictions to a CSV file.\"\"\"\n",
    "    output_data = data[output_columns + [prediction_column]]\n",
    "    output_data.loc[:, \"gameweek\"] = output_data[\"gameweek\"].astype(int)  # Ensure gameweek is an integer\n",
    "    output_data = output_data.pivot(index=[\"unique_id\", \"first_name\", \"second_name\"], columns=\"gameweek\", values=prediction_column)\n",
    "    output_data.reset_index(inplace=True)\n",
    "\n",
    "    # Rename columns for clarity\n",
    "    output_data.columns = [\n",
    "        f\"gw_{col}_{prediction_column}\" if isinstance(col, int) else col for col in output_data.columns\n",
    "    ]\n",
    "\n",
    "    # Sort by gameweek columns\n",
    "    gameweek_columns = sorted(\n",
    "        [col for col in output_data.columns if col.startswith(\"gw_\")],\n",
    "        key=lambda x: int(x.split('_')[1])  # Extract the gameweek number for proper sorting\n",
    "    )\n",
    "    output_data = output_data.sort_values(by=gameweek_columns, ascending=False)\n",
    "\n",
    "    # Save to file\n",
    "    os.makedirs(os.path.dirname(output_file), exist_ok=True)\n",
    "    output_data.to_csv(output_file, index=False)\n",
    "    print(f\"Predictions saved to {output_file}\")"
   ]
  },
  {
   "cell_type": "code",
   "execution_count": 6,
   "id": "eb1e4d6e",
   "metadata": {},
   "outputs": [
    {
     "name": "stdout",
     "output_type": "stream",
     "text": [
      "Merged Fantasy-Premier-League/data/2024-25/DEF/DEF_merged_with_fixtures.csv\n",
      "Merged Fantasy-Premier-League/data/2024-25/MID/MID_merged_with_fixtures.csv\n",
      "Merged Fantasy-Premier-League/data/2024-25/FWD/FWD_merged_with_fixtures.csv\n",
      "Loaded model from models/xgboost_xg_prediction_model.json\n",
      "Predictions saved to predictions/xG_predictions.csv\n",
      "Loaded model from models/xgboost_xa_prediction_model.json\n",
      "Predictions saved to predictions/xA_predictions.csv\n"
     ]
    }
   ],
   "source": [
    "data_directory = \"Fantasy-Premier-League/data/2024-25\"\n",
    "positions = [\"DEF\", \"MID\", \"FWD\"]\n",
    "output_file_xg = \"predictions/xG_predictions.csv\"\n",
    "output_file_xa = \"predictions/xA_predictions.csv\"\n",
    "\n",
    "# Load and merge data\n",
    "merged_data = load_and_merge_data(data_directory, positions)\n",
    "\n",
    "# Preprocess data\n",
    "merged_data = preprocess_data(merged_data)\n",
    "\n",
    "# Predict xG\n",
    "model_path_xg = \"models/xgboost_xg_prediction_model.json\"\n",
    "merged_data = make_predictions(merged_data, model_path_xg, \"predicted_xG\")\n",
    "save_predictions(merged_data, [\"unique_id\", \"first_name\", \"second_name\", \"gameweek\"], \"predicted_xG\", output_file_xg)\n",
    "\n",
    "# Predict xA\n",
    "model_path_xa = \"models/xgboost_xa_prediction_model.json\"\n",
    "merged_data = make_predictions(merged_data, model_path_xa, \"predicted_xA\")\n",
    "save_predictions(merged_data, [\"unique_id\", \"first_name\", \"second_name\", \"gameweek\"], \"predicted_xA\", output_file_xa)"
   ]
  },
  {
   "cell_type": "code",
   "execution_count": null,
   "id": "076fe649",
   "metadata": {},
   "outputs": [],
   "source": []
  }
 ],
 "metadata": {
  "kernelspec": {
   "display_name": "tvenv",
   "language": "python",
   "name": "tvenv"
  },
  "language_info": {
   "codemirror_mode": {
    "name": "ipython",
    "version": 3
   },
   "file_extension": ".py",
   "mimetype": "text/x-python",
   "name": "python",
   "nbconvert_exporter": "python",
   "pygments_lexer": "ipython3",
   "version": "3.12.3"
  }
 },
 "nbformat": 4,
 "nbformat_minor": 5
}
