{
 "cells": [
  {
   "cell_type": "code",
   "execution_count": 1,
   "id": "c989f8db",
   "metadata": {},
   "outputs": [],
   "source": [
    "import pandas as pd\n",
    "import os\n",
    "import xgboost as xgb"
   ]
  },
  {
   "cell_type": "code",
   "execution_count": 16,
   "id": "eb1e4d6e",
   "metadata": {},
   "outputs": [
    {
     "name": "stdout",
     "output_type": "stream",
     "text": [
      "Merged Fantasy-Premier-League/data/2024-25/DEF/DEF_merged_with_fixtures.csv\n",
      "Merged Fantasy-Premier-League/data/2024-25/MID/MID_merged_with_fixtures.csv\n",
      "Merged Fantasy-Premier-League/data/2024-25/FWD/FWD_merged_with_fixtures.csv\n",
      "Combined data saved to Fantasy-Premier-League/data/2024-25/DEF_MID_FWD_combined.csv\n",
      "Loaded model from models/xgboost_xg_prediction_model.json\n",
      "Predictions saved to predictions/xG_predictions.csv\n"
     ]
    }
   ],
   "source": [
    "data_directory = \"Fantasy-Premier-League/data/2024-25\"\n",
    "output_file = os.path.join(data_directory, \"DEF_MID_FWD_combined.csv\")\n",
    "model_path = \"models/xgboost_xg_prediction_model.json\"\n",
    "\n",
    "positions = [\"DEF\", \"MID\", \"FWD\"]\n",
    "merged_data = pd.DataFrame()\n",
    "\n",
    "for position in positions:\n",
    "    position_file = os.path.join(data_directory, position, f\"{position}_merged_with_fixtures.csv\")\n",
    "    if os.path.exists(position_file):\n",
    "        position_data = pd.read_csv(position_file)\n",
    "        merged_data = pd.concat([merged_data, position_data], ignore_index=True)\n",
    "        print(f\"Merged {position_file}\")\n",
    "    else:\n",
    "        print(f\"File {position_file} not found. Skipping.\")\n",
    "\n",
    "merged_data.to_csv(output_file, index=False)\n",
    "print(f\"Combined data saved to {output_file}\")\n",
    "\n",
    "# Retain non-feature columns for formatting output later\n",
    "output_columns = [\"unique_id\", \"first_name\", \"second_name\", \"gameweek\"]\n",
    "\n",
    "merged_data.rename(columns={\"mean_xg_5\": \"rolling_xg_5\", \"id\": \"unique_id\"}, inplace=True)\n",
    "\n",
    "merged_data['was_home'] = merged_data['was_home'].astype(int)\n",
    "merged_data['home_crowd_effect'] = merged_data['was_home'] * merged_data['crowds']\n",
    "merged_data = merged_data.sort_values(by=[\"unique_id\", \"season\", \"gameweek\"])\n",
    "\n",
    "# Convert categorical columns to dummies\n",
    "merged_data = pd.get_dummies(merged_data, columns=[\"POS\", \"season\"], drop_first=True)\n",
    "\n",
    "# Load model\n",
    "model = xgb.XGBRegressor()\n",
    "model.load_model(model_path)\n",
    "print(f\"Loaded model from {model_path}\")\n",
    "\n",
    "# Ensure only trained features are used for prediction\n",
    "trained_feature_names = model.get_booster().feature_names\n",
    "prediction_data = merged_data.reindex(columns=trained_feature_names, fill_value=0)\n",
    "\n",
    "# Generate predictions\n",
    "predictions = model.predict(prediction_data)\n",
    "merged_data[\"predicted_xG\"] = predictions\n",
    "\n",
    "# Format output to include non-feature columns and predictions\n",
    "output_data = merged_data[output_columns + [\"predicted_xG\"]]\n",
    "output_data.loc[:, \"gameweek\"] = output_data[\"gameweek\"].astype(int)  # Ensure gameweek is an integer\n",
    "output_data = output_data.pivot(index=[\"unique_id\", \"first_name\", \"second_name\"], columns=\"gameweek\", values=\"predicted_xG\")\n",
    "output_data.reset_index(inplace=True)\n",
    "\n",
    "# Rename columns for clarity\n",
    "output_data.columns = [\n",
    "    f\"gw_{col}_xG\" if isinstance(col, int) else col for col in output_data.columns\n",
    "]\n",
    "\n",
    "# Sort by gameweek columns\n",
    "gameweek_columns = sorted(\n",
    "    [col for col in output_data.columns if col.startswith(\"gw_\")],\n",
    "    key=lambda x: int(x.split('_')[1])  # Extract the gameweek number for proper sorting\n",
    ")\n",
    "output_data = output_data.sort_values(by=gameweek_columns, ascending=False)\n",
    "\n",
    "\n",
    "# Save the predictions\n",
    "predictions_folder = \"predictions\"\n",
    "os.makedirs(predictions_folder, exist_ok=True)\n",
    "prediction_output_file = os.path.join(predictions_folder, \"xG_predictions.csv\")\n",
    "output_data.to_csv(prediction_output_file, index=False)\n",
    "print(f\"Predictions saved to {prediction_output_file}\")"
   ]
  },
  {
   "cell_type": "code",
   "execution_count": null,
   "id": "076fe649",
   "metadata": {},
   "outputs": [],
   "source": []
  }
 ],
 "metadata": {
  "kernelspec": {
   "display_name": "tvenv",
   "language": "python",
   "name": "tvenv"
  },
  "language_info": {
   "codemirror_mode": {
    "name": "ipython",
    "version": 3
   },
   "file_extension": ".py",
   "mimetype": "text/x-python",
   "name": "python",
   "nbconvert_exporter": "python",
   "pygments_lexer": "ipython3",
   "version": "3.12.3"
  }
 },
 "nbformat": 4,
 "nbformat_minor": 5
}
