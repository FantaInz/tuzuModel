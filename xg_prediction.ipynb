{
 "cells": [
  {
   "cell_type": "code",
   "execution_count": 1,
   "id": "c6bdc916",
   "metadata": {},
   "outputs": [],
   "source": [
    "import pandas as pd\n",
    "import os\n",
    "from helpers import combine_position_data"
   ]
  },
  {
   "cell_type": "code",
   "execution_count": 2,
   "id": "c4dfe05f",
   "metadata": {},
   "outputs": [
    {
     "name": "stdout",
     "output_type": "stream",
     "text": [
      "Loaded data from DEF_players.csv for season 2022-23.\n",
      "Loaded data from MID_players.csv for season 2022-23.\n",
      "Loaded data from FWD_players.csv for season 2022-23.\n",
      "Loaded data from DEF_players.csv for season 2023-24.\n",
      "Loaded data from MID_players.csv for season 2023-24.\n",
      "Loaded data from FWD_players.csv for season 2023-24.\n",
      "Loaded data from DEF_players.csv for season 2024-25.\n",
      "Loaded data from MID_players.csv for season 2024-25.\n",
      "Loaded data from FWD_players.csv for season 2024-25.\n",
      "Combined data saved to Fantasy-Premier-League/data/training_data/xg_training_data.csv.\n"
     ]
    }
   ],
   "source": [
    "data_directory = \"Fantasy-Premier-League/data\"\n",
    "seasons = [\"2022-23\", \"2023-24\", \"2024-25\"]\n",
    "positions = [\"DEF\", \"MID\", \"FWD\"]\n",
    "output_file_name = \"xg_training_data.csv\"\n",
    "\n",
    "combine_position_data(data_directory, seasons, positions, output_file_name)"
   ]
  }
 ],
 "metadata": {
  "kernelspec": {
   "display_name": "tvenv",
   "language": "python",
   "name": "tvenv"
  },
  "language_info": {
   "codemirror_mode": {
    "name": "ipython",
    "version": 3
   },
   "file_extension": ".py",
   "mimetype": "text/x-python",
   "name": "python",
   "nbconvert_exporter": "python",
   "pygments_lexer": "ipython3",
   "version": "3.12.3"
  }
 },
 "nbformat": 4,
 "nbformat_minor": 5
}
