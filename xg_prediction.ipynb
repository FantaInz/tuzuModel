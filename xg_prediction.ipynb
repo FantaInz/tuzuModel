{
 "cells": [
  {
   "cell_type": "code",
   "execution_count": 1,
   "id": "c6bdc916",
   "metadata": {},
   "outputs": [],
   "source": [
    "import pandas as pd\n",
    "import os"
   ]
  },
  {
   "cell_type": "code",
   "execution_count": null,
   "id": "c4dfe05f",
   "metadata": {},
   "outputs": [],
   "source": [
    "# Let's get all data for DEF, MID, FWD from 2022-23 season together so we can predict xG\n",
    "def combine_position_data_for_xg(data_directory, season, output_file):\n",
    "    processed_players_path = os.path.join(data_directory, season, \"processed_players_verified.csv\")\n",
    "    players_folder = os.path.join(data_directory, season, \"players\")\n",
    "    \n",
    "    "
   ]
  }
 ],
 "metadata": {
  "kernelspec": {
   "display_name": "tvenv",
   "language": "python",
   "name": "tvenv"
  },
  "language_info": {
   "codemirror_mode": {
    "name": "ipython",
    "version": 3
   },
   "file_extension": ".py",
   "mimetype": "text/x-python",
   "name": "python",
   "nbconvert_exporter": "python",
   "pygments_lexer": "ipython3",
   "version": "3.12.3"
  }
 },
 "nbformat": 4,
 "nbformat_minor": 5
}
