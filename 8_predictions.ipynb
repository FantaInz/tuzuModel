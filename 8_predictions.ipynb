{
 "cells": [
  {
   "cell_type": "code",
   "execution_count": 1,
   "id": "a1950862-c526-4109-ac1d-efff1122733b",
   "metadata": {},
   "outputs": [],
   "source": [
    "import os\n",
    "import pickle\n",
    "import joblib\n",
    "import json\n",
    "import pandas as pd\n",
    "from sklearn.ensemble import RandomForestRegressor\n",
    "from catboost import CatBoostRegressor"
   ]
  },
  {
   "cell_type": "code",
   "execution_count": 2,
   "id": "2279da74-06b2-4734-8c82-e2f99acf7ba4",
   "metadata": {},
   "outputs": [],
   "source": [
    "data_directory = \"Fantasy-Premier-League/data/prediction_files/\"\n",
    "models_directory = \"models/\"\n",
    "output_directory = \"predictions/\"\n",
    "\n",
    "input_files = {\n",
    "    \"gk\": os.path.join(data_directory, \"gk-ready.csv\"),\n",
    "    \"def\": os.path.join(data_directory, \"def-ready.csv\"),\n",
    "    \"mid\": os.path.join(data_directory, \"mid-ready.csv\"),\n",
    "    \"fwd\": os.path.join(data_directory, \"fwd-ready.csv\")\n",
    "}\n",
    "\n",
    "model_files = {\n",
    "    \"gk\": os.path.join(models_directory, \"gk_prediction_model.json\"),\n",
    "    \"def\": os.path.join(models_directory, \"def_prediction_model.pkl\"),\n",
    "    \"mid\": os.path.join(models_directory, \"mid_prediction_model.json\"),\n",
    "    \"fwd\": os.path.join(models_directory, \"fwd_prediction_model.json\")\n",
    "}\n",
    "\n",
    "output_files = {\n",
    "    \"gk\": os.path.join(output_directory, \"gk-predictions.csv\"),\n",
    "    \"def\": os.path.join(output_directory, \"def-predictions.csv\"),\n",
    "    \"mid\": os.path.join(output_directory, \"mid-predictions.csv\"),\n",
    "    \"fwd\": os.path.join(output_directory, \"fwd-predictions.csv\")\n",
    "}\n",
    "\n",
    "os.makedirs(output_directory, exist_ok=True)"
   ]
  },
  {
   "cell_type": "code",
   "execution_count": 3,
   "id": "8ba12cfd-586d-4743-a26f-dbc9cfcf0c22",
   "metadata": {},
   "outputs": [],
   "source": [
    "def load_model(model_path, model_type):\n",
    "    if model_type == \"pkl\":\n",
    "        with open(model_path, \"rb\") as f:\n",
    "            return joblib.load(f)\n",
    "    elif model_type == \"json\":\n",
    "        model = CatBoostRegressor()\n",
    "        model.load_model(model_path)\n",
    "        return model\n",
    "    else:\n",
    "        raise ValueError(f\"Unsupported model type for {model_path}\")"
   ]
  },
  {
   "cell_type": "code",
   "execution_count": 4,
   "id": "9dec1b4d-f4af-4a7c-9255-b8a99c81aaef",
   "metadata": {},
   "outputs": [],
   "source": [
    "def make_predictions(input_file, model, output_file, position, selected_features=None):\n",
    "    data = pd.read_csv(input_file)\n",
    "    xMins = data[\"xMins\"].fillna(0)\n",
    "\n",
    "    if position == \"def\":\n",
    "        categorical = [\"own_team\", \"opponent_team\", \"was_home\"]\n",
    "        data[[\"own_team\", \"opponent_team\"]] = data[[\"own_team\", \"opponent_team\"]].astype(int)\n",
    "        data[categorical] = data[categorical].astype(\"category\")\n",
    "        dummy = pd.get_dummies(data[categorical], drop_first=True)\n",
    "        \n",
    "        one_hot_teams = [col for col in data.columns if col.startswith(\"own_team_\") or col.startswith(\"opponent_team_\")]\n",
    "        dummy = pd.get_dummies(data[categorical], drop_first=True)\n",
    "        expected_order = (\n",
    "            [f\"own_team_{i}\" for i in range(1, 25) if i != 1] +\n",
    "            [f\"opponent_team_{i}\" for i in range(1, 25) if i != 1] +\n",
    "            [\"was_home_True\"]\n",
    "        )\n",
    "\n",
    "        for col in expected_order:\n",
    "            if col not in dummy.columns:\n",
    "                dummy[col] = 0\n",
    "        dummy = dummy[expected_order]\n",
    "\n",
    "        features = pd.concat([data[selected_features], dummy], axis=1)\n",
    "    else:\n",
    "        try:\n",
    "            selected_features = model.get_booster().feature_names\n",
    "        except AttributeError:\n",
    "            selected_features = model.feature_names_\n",
    "        categorical = [\"own_team\", \"opponent_team\", \"was_home\"]\n",
    "        data[[\"own_team\", \"opponent_team\"]] = data[[\"own_team\", \"opponent_team\"]].astype(int)\n",
    "        data[categorical] = data[categorical].astype(\"category\")\n",
    "        features = data[selected_features]\n",
    "\n",
    "    predictions = model.predict(features)\n",
    "    adjusted_predictions = predictions * (xMins / 90)\n",
    "    data[\"Pts\"] = adjusted_predictions\n",
    "\n",
    "    data = data.groupby([\"Unique_ID\", \"Full_Name\", \"event\"], as_index=False)[\"Pts\"].sum()\n",
    "\n",
    "    data[\"ID\"] = data[\"Unique_ID\"].astype(int)\n",
    "    pivot_data = data.pivot(index=[\"ID\", \"Full_Name\"], columns=\"event\", values=\"Pts\").reset_index()\n",
    "\n",
    "    pivot_data.columns = [f\"{int(col)}_Pts\" if isinstance(col, (int, float)) else col for col in pivot_data.columns]\n",
    "\n",
    "    first_event_col = [col for col in pivot_data.columns if col.endswith(\"_Pts\")][0]\n",
    "    pivot_data = pivot_data.sort_values(by=first_event_col, ascending=False)\n",
    "\n",
    "    pivot_data.to_csv(output_file, index=False)\n",
    "    print(f\"Predictions saved to: {output_file}\")"
   ]
  },
  {
   "cell_type": "code",
   "execution_count": 5,
   "id": "25690e29-4a68-4f67-8e6e-ac6bcdfab217",
   "metadata": {},
   "outputs": [
    {
     "name": "stdout",
     "output_type": "stream",
     "text": [
      "Predictions saved to: predictions/gk-predictions.csv\n",
      "Predictions saved to: predictions/def-predictions.csv\n",
      "Predictions saved to: predictions/mid-predictions.csv\n",
      "Predictions saved to: predictions/fwd-predictions.csv\n"
     ]
    }
   ],
   "source": [
    "for position, input_file in input_files.items():\n",
    "    if not os.path.exists(input_file):\n",
    "        print(f\"Input file not found for {position}. Skipping.\")\n",
    "        continue\n",
    "\n",
    "    model_file = model_files[position]\n",
    "    if not os.path.exists(model_file):\n",
    "        print(f\"Model file not found for {position}. Skipping.\")\n",
    "        continue\n",
    "\n",
    "    model_type = \"pkl\" if model_file.endswith(\".pkl\") else \"json\"\n",
    "    model = load_model(model_file, model_type)\n",
    "\n",
    "    if position == \"def\":\n",
    "        selected_features = [\n",
    "            'atk_def_diff', 'def_atk_diff', 'opponent_xG_rolling_4', 'opponent_deep_rolling_4',\n",
    "            'opponent_xGA_rolling_4', 'opponent_deep_allowed_rolling_4', 'team_xG_rolling_4',\n",
    "            'team_xGA_rolling_4', 'opponent_xGA_rolling_16', 'opponent_deep_allowed_rolling_16',\n",
    "            'opponent_xG_rolling_16', 'opponent_deep_rolling_16', 'opponent_defense',\n",
    "            'own_defense', 'team_xG_rolling_16', 'team_deep_rolling_16', 'team_xGA_rolling_16',\n",
    "            'team_deep_allowed_rolling_16'\n",
    "        ]\n",
    "    else:\n",
    "        selected_features = None\n",
    "\n",
    "    output_file = output_files[position]\n",
    "    make_predictions(input_file, model, output_file, position, selected_features)"
   ]
  },
  {
   "cell_type": "code",
   "execution_count": 6,
   "id": "b474d96b-ae62-451a-acdf-0beaf93efd46",
   "metadata": {},
   "outputs": [
    {
     "name": "stdout",
     "output_type": "stream",
     "text": [
      "All positions predictions saved to: predictions/all_positions_points.csv\n"
     ]
    }
   ],
   "source": [
    "all_predictions = []\n",
    "for position, output_file in output_files.items():\n",
    "    if not os.path.exists(output_file):\n",
    "        print(f\"Output file not found for {position}. Skipping.\")\n",
    "        continue\n",
    "\n",
    "    position_data = pd.read_csv(output_file)\n",
    "    position_data[\"Position\"] = position.upper()\n",
    "    all_predictions.append(position_data)\n",
    "\n",
    "all_positions = pd.concat(all_predictions, ignore_index=True)\n",
    "point_columns = [col for col in all_positions.columns if col.endswith(\"_Pts\")]\n",
    "if point_columns:\n",
    "    first_point_col = point_columns[0]\n",
    "    all_positions = all_positions.sort_values(by=first_point_col, ascending=False)\n",
    "\n",
    "all_positions_file = os.path.join(output_directory, \"all_positions_points.csv\")\n",
    "all_positions.to_csv(all_positions_file, index=False)\n",
    "print(f\"All positions predictions saved to: {all_positions_file}\")"
   ]
  }
 ],
 "metadata": {
  "kernelspec": {
   "display_name": "tvenv",
   "language": "python",
   "name": "tvenv"
  },
  "language_info": {
   "codemirror_mode": {
    "name": "ipython",
    "version": 3
   },
   "file_extension": ".py",
   "mimetype": "text/x-python",
   "name": "python",
   "nbconvert_exporter": "python",
   "pygments_lexer": "ipython3",
   "version": "3.12.3"
  }
 },
 "nbformat": 4,
 "nbformat_minor": 5
}
